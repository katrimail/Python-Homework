{
 "cells": [
  {
   "cell_type": "code",
   "execution_count": 1,
   "metadata": {},
   "outputs": [
    {
     "name": "stdout",
     "output_type": "stream",
     "text": [
      "1\n",
      "2\n",
      "fizz\n",
      "4\n",
      "buzz\n",
      "fizz\n",
      "7\n",
      "8\n",
      "fizz\n",
      "buzz\n",
      "11\n",
      "fizz\n",
      "13\n",
      "14\n",
      "fizzbuzz\n",
      "16\n",
      "17\n",
      "fizz\n",
      "19\n",
      "buzz\n",
      "fizz\n",
      "22\n",
      "23\n",
      "fizz\n",
      "buzz\n",
      "26\n",
      "fizz\n",
      "28\n",
      "29\n",
      "fizzbuzz\n",
      "31\n",
      "32\n",
      "fizz\n",
      "34\n",
      "buzz\n",
      "fizz\n",
      "37\n",
      "38\n",
      "fizz\n",
      "buzz\n",
      "41\n",
      "fizz\n",
      "43\n",
      "44\n",
      "fizzbuzz\n",
      "46\n",
      "47\n",
      "fizz\n",
      "49\n",
      "buzz\n",
      "fizz\n",
      "52\n",
      "53\n",
      "fizz\n",
      "buzz\n",
      "56\n",
      "fizz\n",
      "58\n",
      "59\n",
      "fizzbuzz\n",
      "61\n",
      "62\n",
      "fizz\n",
      "64\n",
      "buzz\n",
      "fizz\n",
      "67\n",
      "68\n",
      "fizz\n",
      "buzz\n",
      "71\n",
      "fizz\n",
      "73\n",
      "74\n",
      "fizzbuzz\n",
      "76\n",
      "77\n",
      "fizz\n",
      "79\n",
      "buzz\n",
      "fizz\n",
      "82\n",
      "83\n",
      "fizz\n",
      "buzz\n",
      "86\n",
      "fizz\n",
      "88\n",
      "89\n",
      "fizzbuzz\n",
      "91\n",
      "92\n",
      "fizz\n",
      "94\n",
      "buzz\n",
      "fizz\n",
      "97\n",
      "98\n",
      "fizz\n"
     ]
    }
   ],
   "source": [
    "for i in range(1,100):\n",
    "    if i % 3 == 0 and i%5==0:\n",
    "        print('fizzbuzz')\n",
    "    elif i % 3 == 0:\n",
    "        print('fizz')\n",
    "    elif i%5==0:\n",
    "        print('buzz')\n",
    "    else:\n",
    "        print(i)"
   ]
  },
  {
   "cell_type": "code",
   "execution_count": null,
   "metadata": {},
   "outputs": [],
   "source": []
  },
  {
   "cell_type": "code",
   "execution_count": null,
   "metadata": {},
   "outputs": [],
   "source": [
    "long_phrase = \"Насколько проще было бы писать программы, если бы не заказчики\"\n",
    "short_phrase = \"640Кб должно хватить для любых задач. Билл Гейтс (по легенде)\"\n",
    "print(len(long_phrase)>len(short_phrase))"
   ]
  },
  {
   "cell_type": "code",
   "execution_count": 2,
   "metadata": {},
   "outputs": [
    {
     "name": "stdout",
     "output_type": "stream",
     "text": [
      "4\n",
      "Объем файла равен 4096 Mb\n"
     ]
    }
   ],
   "source": [
    "a =int(input())\n",
    "print('Объем файла равен',a*1024, 'Mb')"
   ]
  },
  {
   "cell_type": "markdown",
   "metadata": {},
   "source": []
  },
  {
   "cell_type": "markdown",
   "metadata": {},
   "source": []
  },
  {
   "cell_type": "code",
   "execution_count": 12,
   "metadata": {},
   "outputs": [
    {
     "name": "stdout",
     "output_type": "stream",
     "text": [
      "Введите месяц: июль\n",
      "Введите число: 1\n",
      "Рак\n"
     ]
    }
   ],
   "source": [
    "month = input('Введите месяц: ')\n",
    "data = int(input('Введите число: '))\n",
    "\n",
    "if month=='январь':\n",
    "    if 1<=data<=20: \n",
    "        print('Козерог')\n",
    "    elif 21<data<=31:\n",
    "        print('Водолей')\n",
    "elif month=='февраль':\n",
    "    if 1<=data<=20: \n",
    "        print('Водолей')\n",
    "    elif 21<data<=29:\n",
    "        print('Рыба')\n",
    "elif month=='март':\n",
    "    if 1<=data<=20: \n",
    "        print('Рыба')\n",
    "    elif 21<data<=31:\n",
    "        print('Овен')\n",
    "elif month=='апрель':\n",
    "    if 1<=data<=20: \n",
    "        print('Овен')\n",
    "    elif 21<data<=30:\n",
    "        print('Телец')\n",
    "elif month=='май':\n",
    "    if 1<=data<=20: \n",
    "        print('Телец')\n",
    "    elif 21<data<=31:\n",
    "        print('Близнецы')\n",
    "elif month=='июнь':\n",
    "    if 1<=data<=21: \n",
    "        print('Близнецы')\n",
    "    elif 22<data<=31:\n",
    "        print('Рак')\n",
    "elif month=='июль':\n",
    "    if 1<=data<=22: \n",
    "        print('Рак')\n",
    "    elif 23<data<=30:\n",
    "        print('Лев')\n",
    "elif month=='август':\n",
    "    if 1<=data<=23: \n",
    "        print('Лев')\n",
    "    elif 24<data<=31:\n",
    "        print('Дева')\n",
    "elif month=='сентябрь':\n",
    "    if 1<=data<=23: \n",
    "        print('Дева')\n",
    "    elif 24<data<=30:\n",
    "        print('Весы')\n",
    "elif month=='октябрь':\n",
    "    if 1<=data<=23: \n",
    "        print('Весы')\n",
    "    elif 24<=data<=31:\n",
    "        print('Скорпион')\n",
    "elif month=='ноябрь':\n",
    "    if 1<=data<=22: \n",
    "        print('Скорпион')\n",
    "    elif 22<data<=30:\n",
    "        print('Стрелец')\n",
    "elif month=='декабрь':\n",
    "    if 1<=data<=21: \n",
    "        print('Стрелец')\n",
    "    elif 21<data<=31:\n",
    "        print('Козерог')\n",
    "else: \n",
    "    print('Ошибка')"
   ]
  },
  {
   "cell_type": "code",
   "execution_count": null,
   "metadata": {},
   "outputs": [],
   "source": []
  },
  {
   "cell_type": "code",
   "execution_count": null,
   "metadata": {},
   "outputs": [],
   "source": []
  },
  {
   "cell_type": "code",
   "execution_count": null,
   "metadata": {},
   "outputs": [],
   "source": []
  },
  {
   "cell_type": "code",
   "execution_count": null,
   "metadata": {},
   "outputs": [],
   "source": []
  }
 ],
 "metadata": {
  "kernelspec": {
   "display_name": "Python 3",
   "language": "python",
   "name": "python3"
  },
  "language_info": {
   "codemirror_mode": {
    "name": "ipython",
    "version": 3
   },
   "file_extension": ".py",
   "mimetype": "text/x-python",
   "name": "python",
   "nbconvert_exporter": "python",
   "pygments_lexer": "ipython3",
   "version": "3.7.3"
  }
 },
 "nbformat": 4,
 "nbformat_minor": 2
}
