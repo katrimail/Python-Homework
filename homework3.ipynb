{
 "cells": [
  {
   "cell_type": "code",
   "execution_count": 58,
   "metadata": {},
   "outputs": [
    {
     "name": "stdout",
     "output_type": "stream",
     "text": [
      "Канал с максимальгым объемом: yandex\n"
     ]
    }
   ],
   "source": [
    "stats = {'facebook': 55, 'yandex': 120, 'vk': 115, 'google': 99, 'email': 42, 'ok': 98}\n",
    "\n",
    "stats_2=sorted(stats.items(), key = lambda x: -x[1])\n",
    "print('Канал с максимальгым объемом:', stats_2[0][0])"
   ]
  },
  {
   "cell_type": "code",
   "execution_count": null,
   "metadata": {},
   "outputs": [],
   "source": []
  },
  {
   "cell_type": "code",
   "execution_count": null,
   "metadata": {},
   "outputs": [],
   "source": []
  },
  {
   "cell_type": "code",
   "execution_count": 145,
   "metadata": {},
   "outputs": [
    {
     "name": "stdout",
     "output_type": "stream",
     "text": [
      "{'android', '4.4,', '2.', 'фитнес', 'лучший', 'экран', 'mi', 'умный', 'для', 'браслет', 'band', 'ios', '7,', 'в', 'выбор', 'xiaomi.', 'лидер', 'линейке', 'xiaomi', 'oled.'}\n",
      "5\n",
      "{'сенсорный', 'android,', 'honor', 'браслет', 'band', 'мониторинг', 'влагозащищенный', 'сна', 'фитнес', 'huawei', '3.', 'экран', 'ios'}\n",
      "1\n",
      "{'сенсорный', 'сна,', 'калорий,', 'amoled-экран', 'новинка', 'браслет', 'мониторинг', 'samsung', 'влагозащищенный', 'gear', 'fit2', 'pro.'}\n",
      "1\n"
     ]
    }
   ],
   "source": [
    "descriptions = [\n",
    "['браслет', 'xiaomi', 'mi', 'band', '2.', 'умный', 'браслет', 'xiaomi', 'mi', 'лидер', 'в', 'линейке', 'xiaomi.', 'фитнес', 'браслет', 'для', 'android', '4.4,', 'ios', '7,', 'экран', 'oled.', 'лучший', 'выбор', 'xiaomi'],\n",
    "['браслет', 'huawei', 'honor', 'band', '3.', 'фитнес', 'браслет', 'влагозащищенный', 'сенсорный', 'экран', 'android,', 'ios', 'мониторинг', 'сна'],\n",
    "['браслет', 'samsung', 'gear', 'fit2', 'pro.', 'влагозащищенный', 'сенсорный', 'amoled-экран', 'мониторинг', 'сна,', 'калорий,', 'новинка', 'samsung'],\n",
    "]\n",
    "\n",
    "set_word1 = set(descriptions[0])\n",
    "print(set_word1)\n",
    "result = len(descriptions[0]) - len(set_word1)\n",
    "print(result)\n",
    "\n",
    "set_word2 = set(descriptions[1])\n",
    "print(set_word2)\n",
    "result = len(descriptions[1]) - len(set_word2)\n",
    "print(result)\n",
    "\n",
    "set_word3 = set(descriptions[2])\n",
    "print(set_word3)\n",
    "result = len(descriptions[2]) - len(set_word3)\n",
    "print(result)"
   ]
  },
  {
   "cell_type": "code",
   "execution_count": 148,
   "metadata": {},
   "outputs": [
    {
     "name": "stdout",
     "output_type": "stream",
     "text": [
      "2\n"
     ]
    },
    {
     "ename": "FileNotFoundError",
     "evalue": "[Errno 2] No such file or directory: 'stats.csv'",
     "output_type": "error",
     "traceback": [
      "\u001b[0;31m---------------------------------------------------------------------------\u001b[0m",
      "\u001b[0;31mFileNotFoundError\u001b[0m                         Traceback (most recent call last)",
      "\u001b[0;32m<ipython-input-148-027e32c6d6d8>\u001b[0m in \u001b[0;36m<module>\u001b[0;34m\u001b[0m\n\u001b[1;32m      1\u001b[0m \u001b[0mstats_dict\u001b[0m \u001b[0;34m=\u001b[0m \u001b[0;34m{\u001b[0m\u001b[0;34m}\u001b[0m\u001b[0;34m\u001b[0m\u001b[0;34m\u001b[0m\u001b[0m\n\u001b[1;32m      2\u001b[0m \u001b[0mn\u001b[0m \u001b[0;34m=\u001b[0m \u001b[0mint\u001b[0m\u001b[0;34m(\u001b[0m\u001b[0minput\u001b[0m\u001b[0;34m(\u001b[0m\u001b[0;34m)\u001b[0m\u001b[0;34m)\u001b[0m\u001b[0;34m\u001b[0m\u001b[0;34m\u001b[0m\u001b[0m\n\u001b[0;32m----> 3\u001b[0;31m \u001b[0;32mwith\u001b[0m \u001b[0mopen\u001b[0m\u001b[0;34m(\u001b[0m\u001b[0;34m'stats.csv'\u001b[0m\u001b[0;34m)\u001b[0m \u001b[0;32mas\u001b[0m \u001b[0mf\u001b[0m\u001b[0;34m:\u001b[0m\u001b[0;34m\u001b[0m\u001b[0;34m\u001b[0m\u001b[0m\n\u001b[0m\u001b[1;32m      4\u001b[0m     \u001b[0;32mfor\u001b[0m \u001b[0mline\u001b[0m \u001b[0;32min\u001b[0m \u001b[0mf\u001b[0m\u001b[0;34m:\u001b[0m\u001b[0;34m\u001b[0m\u001b[0;34m\u001b[0m\u001b[0m\n\u001b[1;32m      5\u001b[0m         \u001b[0mline\u001b[0m \u001b[0;34m=\u001b[0m \u001b[0mline\u001b[0m\u001b[0;34m.\u001b[0m\u001b[0mstrip\u001b[0m\u001b[0;34m(\u001b[0m\u001b[0;34m)\u001b[0m\u001b[0;34m.\u001b[0m\u001b[0msplit\u001b[0m\u001b[0;34m(\u001b[0m\u001b[0;34m','\u001b[0m\u001b[0;34m)\u001b[0m\u001b[0;34m\u001b[0m\u001b[0;34m\u001b[0m\u001b[0m\n",
      "\u001b[0;31mFileNotFoundError\u001b[0m: [Errno 2] No such file or directory: 'stats.csv'"
     ]
    }
   ],
   "source": [
    "stats_dict = {}\n",
    "n = int(input())\n",
    "with open('stats.csv') as f:\n",
    "    for line in f:\n",
    "        line = line.strip().split(',')\n",
    "        stats_dict[tuple(line[:n])] = line[n:]"
   ]
  },
  {
   "cell_type": "code",
   "execution_count": null,
   "metadata": {},
   "outputs": [],
   "source": [
    "for key, value in stats_dict.items():\n",
    "    print(key, value)\n",
    "    break"
   ]
  },
  {
   "cell_type": "code",
   "execution_count": null,
   "metadata": {},
   "outputs": [],
   "source": [
    "\n"
   ]
  },
  {
   "cell_type": "code",
   "execution_count": null,
   "metadata": {},
   "outputs": [],
   "source": []
  }
 ],
 "metadata": {
  "kernelspec": {
   "display_name": "Python 3",
   "language": "python",
   "name": "python3"
  },
  "language_info": {
   "codemirror_mode": {
    "name": "ipython",
    "version": 3
   },
   "file_extension": ".py",
   "mimetype": "text/x-python",
   "name": "python",
   "nbconvert_exporter": "python",
   "pygments_lexer": "ipython3",
   "version": "3.7.3"
  }
 },
 "nbformat": 4,
 "nbformat_minor": 2
}
